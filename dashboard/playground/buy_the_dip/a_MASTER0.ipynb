{
 "cells": [
  {
   "cell_type": "code",
   "execution_count": null,
   "metadata": {},
   "outputs": [],
   "source": [
    "# Ensure we are in the correct directory #\n",
    "#----------------------------------------#\n",
    "\n",
    "%cd ~/Documents/contabo/equity2/dashboard/playground/buy_the_dip\n",
    "%pwd"
   ]
  },
  {
   "cell_type": "code",
   "execution_count": null,
   "metadata": {},
   "outputs": [],
   "source": [
    "# Run Preprocessing Notebook #\n",
    "#----------------------------#\n",
    "\n",
    "IS_MASTER = True\n",
    "\n",
    "DATA_DIR = './data'\n",
    "RAW_FILE0 = '/path/to/raw/file.csv'\n",
    "PROCESSED_FILE = f'{DATA_DIR}/processed.pkl'\n",
    "OTHER_PREPROCESS_PARAM = ...\n",
    "\n",
    "import log_and_print\n",
    "old_print = print\n",
    "print = log_and_print.run('preprocessing', 'DEBUG', 'logs/b_preprocessing.log')\n",
    "\n",
    "%run b_preprocessing.ipynb\n",
    "\n",
    "print = old_print"
   ]
  },
  {
   "cell_type": "code",
   "execution_count": null,
   "metadata": {},
   "outputs": [],
   "source": [
    "# Run Model Notebook #\n",
    "#--------------------#\n",
    "\n",
    "IS_MASTER = True\n",
    "\n",
    "DATA_DIR = './data'\n",
    "EXP_DIR = './exp'\n",
    "PROCESSED_FILE = f'{DATA_DIR}/processed.pkl'\n",
    "MODEL_FILE = f'{EXP_DIR}/model.pkl'\n",
    "PREDICTION_FILE = f'{EXP_DIR}/ypred.pkl'\n",
    "OTHER_MODEL_PARAM = ...\n",
    "\n",
    "import log_and_print\n",
    "old_print = print\n",
    "print = log_and_print.run('modelname', 'DEBUG', 'logs/c_modelname.log')\n",
    "\n",
    "%run c_modelname.ipynb\n",
    "\n",
    "print = old_print"
   ]
  },
  {
   "cell_type": "code",
   "execution_count": null,
   "metadata": {},
   "outputs": [],
   "source": [
    "# Run Reporting Notebook #\n",
    "#------------------------#\n",
    "\n",
    "IS_MASTER = True\n",
    "\n",
    "EXP_DIR = './exp'\n",
    "MODEL_FILE = f'{EXP_DIR}/model.pkl'\n",
    "PREDICTION_FILE = f'{EXP_DIR}/ypred.pkl'\n",
    "\n",
    "\n",
    "import log_and_print\n",
    "old_print = print\n",
    "print = log_and_print.run('reporting', 'DEBUG', 'logs/d_reporting.log')\n",
    "\n",
    "%run d_reporting.ipynb\n",
    "\n",
    "print = old_print"
   ]
  }
 ],
 "metadata": {
  "language_info": {
   "name": "python"
  }
 },
 "nbformat": 4,
 "nbformat_minor": 2
}
