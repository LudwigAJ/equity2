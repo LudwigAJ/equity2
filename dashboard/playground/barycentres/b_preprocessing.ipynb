{
 "cells": [
  {
   "cell_type": "code",
   "execution_count": 1,
   "metadata": {},
   "outputs": [
    {
     "name": "stdout",
     "output_type": "stream",
     "text": [
      "/Users/ludwigjonsson/Documents/contabo/equity2/dashboard/playground/barycentres\n"
     ]
    },
    {
     "data": {
      "text/plain": [
       "'/Users/ludwigjonsson/Documents/contabo/equity2/dashboard/playground/barycentres'"
      ]
     },
     "execution_count": 1,
     "metadata": {},
     "output_type": "execute_result"
    }
   ],
   "source": [
    "# Ensure we are in the correct directory #\n",
    "#----------------------------------------#\n",
    "\n",
    "%cd ~/Documents/contabo/equity2/dashboard/playground/barycentres\n",
    "%pwd"
   ]
  },
  {
   "cell_type": "code",
   "execution_count": 2,
   "metadata": {},
   "outputs": [],
   "source": [
    "# Set up current notebook #\n",
    "#-------------------------#\n",
    "\n",
    "try: IS_MASTER\n",
    "except: IS_MASTER = False\n",
    "\n",
    "if not IS_MASTER:\n",
    "    DATA_DIR = './data'\n",
    "    RAW_FILE0 = '/path/to/raw/file.csv'\n",
    "    PROCESSED_FILE = f'{DATA_DIR}/processed.pkl'\n",
    "    OTHER_PREPROCESS_PARAM = ...\n"
   ]
  },
  {
   "cell_type": "code",
   "execution_count": null,
   "metadata": {},
   "outputs": [],
   "source": [
    "import requests\n",
    "import datetime\n",
    "import urllib\n",
    "import sqlite3\n",
    "import yfinance as yf\n",
    "import pandas as pd"
   ]
  }
 ],
 "metadata": {
  "kernelspec": {
   "display_name": "equity2",
   "language": "python",
   "name": "equity2"
  },
  "language_info": {
   "codemirror_mode": {
    "name": "ipython",
    "version": 3
   },
   "file_extension": ".py",
   "mimetype": "text/x-python",
   "name": "python",
   "nbconvert_exporter": "python",
   "pygments_lexer": "ipython3",
   "version": "3.9.6"
  }
 },
 "nbformat": 4,
 "nbformat_minor": 2
}
