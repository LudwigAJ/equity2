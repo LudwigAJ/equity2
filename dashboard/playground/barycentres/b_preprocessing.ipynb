{
 "cells": [
  {
   "cell_type": "code",
   "execution_count": 1,
   "metadata": {},
   "outputs": [
    {
     "name": "stdout",
     "output_type": "stream",
     "text": [
      "/Users/ludwigjonsson/Documents/contabo/equity2/dashboard/playground/barycentres\n"
     ]
    },
    {
     "data": {
      "text/plain": [
       "'/Users/ludwigjonsson/Documents/contabo/equity2/dashboard/playground/barycentres'"
      ]
     },
     "execution_count": 1,
     "metadata": {},
     "output_type": "execute_result"
    }
   ],
   "source": [
    "# Ensure we are in the correct directory #\n",
    "#----------------------------------------#\n",
    "\n",
    "%cd ~/Documents/contabo/equity2/dashboard/playground/barycentres\n",
    "%pwd"
   ]
  },
  {
   "cell_type": "code",
   "execution_count": 2,
   "metadata": {},
   "outputs": [],
   "source": [
    "# Set up current notebook #\n",
    "#-------------------------#\n",
    "\n",
    "try: IS_MASTER\n",
    "except: IS_MASTER = False\n",
    "\n",
    "if not IS_MASTER:\n",
    "    DATA_DIR = './data'\n",
    "    RAW_FILE0 = '/path/to/raw/file.csv'\n",
    "    PROCESSED_FILE = f'{DATA_DIR}/processed.pkl'\n",
    "    OTHER_PREPROCESS_PARAM = ...\n"
   ]
  },
  {
   "cell_type": "code",
   "execution_count": null,
   "metadata": {},
   "outputs": [],
   "source": [
    "import requests\n",
    "import datetime\n",
    "import urllib\n",
    "import sqlite3\n",
    "import yfinance as yf\n",
    "import pandas as pd"
   ]
  },
  {
   "cell_type": "code",
   "execution_count": null,
   "metadata": {},
   "outputs": [],
   "source": [
    "import requests\n",
    "import datetime\n",
    "import urllib\n",
    "import sqlite3\n",
    "import yfinance as yf\n",
    "import pandas as pd\n",
    "\n",
    "from bs4 import BeautifulSoup\n",
    "from lxml import html\n",
    "\n",
    "import logging\n",
    "logging.basicConfig(level=logging.INFO)\n",
    "logger = logging.getLogger(__name__)\n",
    "\n",
    "from utils import dfsavecsv\n",
    "\n",
    "@dfsavecsv(name='sp600', dir='ext_data')\n",
    "def get_sp600_constit_wikipedia():\n",
    "    '''\n",
    "    Gets the S&P 600 (SmallCap) table from Wikipedia at\n",
    "    'https://en.wikipedia.org/wiki/List_of_S%26P_600_companies'\n",
    "\n",
    "    Returns it as a pandas DataFrame.\n",
    "    '''\n",
    "    sp600_url = 'https://en.wikipedia.org/wiki/List_of_S%26P_600_companies'\n",
    "\n",
    "    response = requests.get(sp600_url, headers={\"User-Agent\":\"Mozilla/5.0\"})\n",
    "    logger.info(f'Wikipedia responded with status code: {response.status_code} for S&P600 table.')\n",
    "    soup = BeautifulSoup(response.text, 'html.parser')\n",
    "    \n",
    "\n",
    "    table = soup.find('table',{'class': 'wikitable'})\n",
    "    rows = table.find('tbody').find_all('tr')\n",
    "    header = rows[0]\n",
    "    body = rows[1:]\n",
    "\n",
    "    col_names = [x.get_text().replace('\\n', '') for x in header.find_all('th')]\n",
    "\n",
    "    data = []\n",
    "    for row in body:\n",
    "        columns = [col.get_text().replace('\\n', '') for col in row.find_all('td')]\n",
    "        data.append(columns)\n",
    "\n",
    "    df = pd.DataFrame(data, columns=col_names)\n",
    "    logger.info(df)\n",
    "\n",
    "    df = df[['Symbol', 'Company', 'GICS Sector', 'GICS Sub-Industry']]\n",
    "    df.columns = ['symbol', 'company', 'industry', 'subindustry']\n",
    "\n",
    "    return df"
   ]
  }
 ],
 "metadata": {
  "kernelspec": {
   "display_name": "equity2",
   "language": "python",
   "name": "equity2"
  },
  "language_info": {
   "codemirror_mode": {
    "name": "ipython",
    "version": 3
   },
   "file_extension": ".py",
   "mimetype": "text/x-python",
   "name": "python",
   "nbconvert_exporter": "python",
   "pygments_lexer": "ipython3",
   "version": "3.9.6"
  }
 },
 "nbformat": 4,
 "nbformat_minor": 2
}
