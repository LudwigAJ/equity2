{
 "cells": [
  {
   "cell_type": "code",
   "execution_count": 2,
   "metadata": {},
   "outputs": [
    {
     "name": "stdout",
     "output_type": "stream",
     "text": [
      "/Users/ludwigjonsson/Documents/contabo/equity2/dashboard/playground/barycentres\n"
     ]
    },
    {
     "data": {
      "text/plain": [
       "'/Users/ludwigjonsson/Documents/contabo/equity2/dashboard/playground/barycentres'"
      ]
     },
     "execution_count": 2,
     "metadata": {},
     "output_type": "execute_result"
    }
   ],
   "source": [
    "# Ensure we are in the correct directory #\n",
    "#----------------------------------------#\n",
    "\n",
    "%cd ~/Documents/contabo/equity2/dashboard/playground/barycentres\n",
    "%pwd"
   ]
  },
  {
   "cell_type": "code",
   "execution_count": 2,
   "metadata": {},
   "outputs": [
    {
     "name": "stdout",
     "output_type": "stream",
     "text": [
      "/Users/ludwigjonsson/Documents/contabo/equity2/dashboard/playground/barycentres\n",
      "2023-12-10 02:36:52,481 - preprocessing - INFO - hello world\n",
      "2023-12-10 02:36:52,481 - preprocessing - INFO - hello world\n"
     ]
    }
   ],
   "source": [
    "# Run Preprocessing Notebook #\n",
    "#----------------------------#\n",
    "\n",
    "IS_MASTER = True\n",
    "\n",
    "DATA_DIR = './data'\n",
    "RAW_FILE0 = '/path/to/raw/file.csv'\n",
    "PROCESSED_FILE = f'{DATA_DIR}/processed.pkl'\n",
    "OTHER_PREPROCESS_PARAM = ...\n",
    "\n",
    "import log_and_print\n",
    "old_print = print\n",
    "print = log_and_print.run('preprocessing', 'DEBUG', 'logs/b_preprocessing.log')\n",
    "\n",
    "%run b_preprocessing.ipynb\n",
    "\n",
    "print = old_print"
   ]
  },
  {
   "cell_type": "code",
   "execution_count": 2,
   "metadata": {},
   "outputs": [
    {
     "name": "stdout",
     "output_type": "stream",
     "text": [
      "/Users/ludwigjonsson/Documents/contabo/equity2/dashboard/playground/barycentres\n"
     ]
    }
   ],
   "source": [
    "# Run Model Notebook #\n",
    "#--------------------#\n",
    "\n",
    "IS_MASTER = True\n",
    "\n",
    "DATA_DIR = './data'\n",
    "EXP_DIR = './exp'\n",
    "PROCESSED_FILE = f'{DATA_DIR}/processed.pkl'\n",
    "MODEL_FILE = f'{EXP_DIR}/model.pkl'\n",
    "PREDICTION_FILE = f'{EXP_DIR}/ypred.pkl'\n",
    "OTHER_MODEL_PARAM = ...\n",
    "\n",
    "import log_and_print\n",
    "old_print = print\n",
    "print = log_and_print.run('modelname', 'DEBUG', 'logs/c_modelname.log')\n",
    "\n",
    "%run c_modelname.ipynb\n",
    "\n",
    "print = old_print"
   ]
  },
  {
   "cell_type": "code",
   "execution_count": 9,
   "metadata": {},
   "outputs": [
    {
     "name": "stdout",
     "output_type": "stream",
     "text": [
      "/Users/ludwigjonsson/Documents/contabo/equity2/dashboard/playground/barycentres\n"
     ]
    }
   ],
   "source": [
    "# Run Reporting Notebook #\n",
    "#------------------------#\n",
    "\n",
    "IS_MASTER = True\n",
    "\n",
    "EXP_DIR = './exp'\n",
    "MODEL_FILE = f'{EXP_DIR}/model.pkl'\n",
    "PREDICTION_FILE = f'{EXP_DIR}/ypred.pkl'\n",
    "\n",
    "import log_and_print\n",
    "old_print = print\n",
    "print = log_and_print.run('reporting', 'DEBUG', 'logs/d_reporting.log')\n",
    "\n",
    "%run d_reporting.ipynb\n",
    "\n",
    "print = old_print"
   ]
  },
  {
   "cell_type": "code",
   "execution_count": null,
   "metadata": {},
   "outputs": [],
   "source": []
  }
 ],
 "metadata": {
  "kernelspec": {
   "display_name": "equity2",
   "language": "python",
   "name": "equity2"
  },
  "language_info": {
   "codemirror_mode": {
    "name": "ipython",
    "version": 3
   },
   "file_extension": ".py",
   "mimetype": "text/x-python",
   "name": "python",
   "nbconvert_exporter": "python",
   "pygments_lexer": "ipython3",
   "version": "3.9.6"
  }
 },
 "nbformat": 4,
 "nbformat_minor": 2
}
