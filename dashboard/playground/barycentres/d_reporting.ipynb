{
 "cells": [
  {
   "cell_type": "code",
   "execution_count": null,
   "metadata": {},
   "outputs": [],
   "source": [
    "# Ensure we are in the correct directory #\n",
    "#----------------------------------------#\n",
    "\n",
    "%cd ~/Documents/contabo/equity2/dashboard/playground/barycentres\n",
    "%pwd"
   ]
  },
  {
   "cell_type": "code",
   "execution_count": null,
   "metadata": {},
   "outputs": [],
   "source": [
    "# Set up current notebook #\n",
    "#-------------------------#\n",
    "\n",
    "try: IS_MASTER\n",
    "except: IS_MASTER = False\n",
    "\n",
    "if not IS_MASTER:\n",
    "    EXP_DIR = './exp'\n",
    "    MODEL_FILE = f'{EXP_DIR}/model.pkl'\n",
    "    PREDICTION_FILE = f'{EXP_DIR}/ypred.pkl'"
   ]
  }
 ],
 "metadata": {
  "language_info": {
   "name": "python"
  }
 },
 "nbformat": 4,
 "nbformat_minor": 2
}
