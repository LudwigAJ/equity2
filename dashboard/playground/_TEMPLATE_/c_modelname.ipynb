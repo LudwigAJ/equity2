{
 "cells": [
  {
   "cell_type": "code",
   "execution_count": 8,
   "metadata": {},
   "outputs": [
    {
     "name": "stdout",
     "output_type": "stream",
     "text": [
      "/Users/ludwigjonsson/Documents/contabo/equity2/dashboard/playground/_TEMPLATE_\n"
     ]
    },
    {
     "data": {
      "text/plain": [
       "'/Users/ludwigjonsson/Documents/contabo/equity2/dashboard/playground/_TEMPLATE_'"
      ]
     },
     "execution_count": 8,
     "metadata": {},
     "output_type": "execute_result"
    }
   ],
   "source": [
    "# Ensure we are in the correct directory #\n",
    "#----------------------------------------#\n",
    "\n",
    "%cd ~/Documents/contabo/equity2/dashboard/playground/_TEMPLATE_\n",
    "%pwd"
   ]
  },
  {
   "cell_type": "code",
   "execution_count": 9,
   "metadata": {},
   "outputs": [],
   "source": [
    "# Set up current notebook #\n",
    "#-------------------------#\n",
    "\n",
    "try: IS_MASTER\n",
    "except: IS_MASTER = False\n",
    "\n",
    "if not IS_MASTER:\n",
    "    DATA_DIR = './data'\n",
    "    EXP_DIR = './exp'\n",
    "    PROCESSED_FILE = f'{DATA_DIR}/processed.pkl'\n",
    "    MODEL_FILE = f'{EXP_DIR}/model.pkl'\n",
    "    PREDICTION_FILE = f'{EXP_DIR}/ypred.pkl'\n",
    "    OTHER_MODEL_PARAM = ...\n"
   ]
  }
 ],
 "metadata": {
  "kernelspec": {
   "display_name": "Python 3",
   "language": "python",
   "name": "python3"
  },
  "language_info": {
   "codemirror_mode": {
    "name": "ipython",
    "version": 3
   },
   "file_extension": ".py",
   "mimetype": "text/x-python",
   "name": "python",
   "nbconvert_exporter": "python",
   "pygments_lexer": "ipython3",
   "version": "3.9.6"
  }
 },
 "nbformat": 4,
 "nbformat_minor": 2
}
